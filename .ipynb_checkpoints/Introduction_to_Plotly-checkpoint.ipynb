{
 "cells": [
  {
   "cell_type": "markdown",
   "metadata": {},
   "source": [
    "# Introduction to Plotly"
   ]
  },
  {
   "cell_type": "markdown",
   "metadata": {},
   "source": [
    "Plotly is a popular data visualization library in Python for creating interactive and complex visualizations. It is particularly well-suited for web-based visualizations, with support for a multitude of chart types.\n",
    "\n",
    "## Overview of Plotly Interfaces\n",
    "\n",
    "Plotly offers two main interfaces for creating visualizations: `plotly.graph_objects` and `plotly.express`, each catering to different user needs from detailed customization to quick and simple plotting.\n",
    "\n",
    "### plotly.graph_objects\n",
    "This is Plotly's low-level interface, providing detailed control over the components of figures, such as traces and layouts. It is designed for creating complex, highly-customized visualizations.\n",
    "\n",
    "**Key Features:**\n",
    "- Detailed control over figure components.\n",
    "- Suitable for layering multiple plots and custom interactions.\n",
    "- Use for complex visualizations requiring precise configurations.\n",
    "\n",
    "### plotly.express\n",
    "Plotly Express is the high-level interface, ideal for quickly creating common chart types with minimal code. It automates many aspects of plotting, making it user-friendly and efficient.\n",
    "\n",
    "**Key Features:**\n",
    "- Simple, concise syntax for creating charts.\n",
    "- Automates layout and common settings.\n",
    "- Best for quick data exploration and standard visualizations.\n",
    "\n",
    "<br>\n",
    "<br>\n",
    "\n",
    "We'll use the same datasets we worked with in the previous lab:\n",
    "> #### Datasets:\n",
    ">\n",
    ">**[Stock Market Dataset](https://www.kaggle.com/datasets/borismarjanovic/price-volume-data-for-all-us-stocks-etfs)** \n",
    ">This dataset includes historical daily prices and volumes of all U.S. stocks and ETFs, containing CSV files for every stock, with values for Date, Open, High, Low, Close, Volume, etc. For this lab, we will use the historical data for the Amazon stock.\n",
    ">\n",
    "> **[International tourism, number of arrivals](https://data.worldbank.org/indicator/ST.INT.ARVL)** \n",
    ">\n",
    ">This dataset contains the yearly number of inbound tourists for every country. The data on inbound tourists refer to the number of arrivals, not to the number of people traveling. Thus a person who makes several trips to a country during a given period is counted each time as a new arrival.\n",
    "\n",
    "\n",
    "\n",
    "<br>"
   ]
  },
  {
   "cell_type": "markdown",
   "metadata": {},
   "source": [
    "## Generate a Scatter Plot with `plotly.graph_objects`\n",
    "\n",
    "A scatter plot visualizes the relationship between two variables on a 2D plane, with data points scattered across the plane to reveal patterns or correlations.\n",
    "\n",
    "While `plotly.express` (PX), the high-level interface, is recommended for most users due to its simplicity and efficiency in creating visualizations quickly, this example focuses on the more detailed and flexible `plotly.graph_objects`. This low-level interface allows for precise customization of every aspect of a figure, providing the flexibility needed for complex customizations not directly achievable with PX.\n",
    "\n",
    "\n",
    "### Lets use the stock dataset to illustrate the relationship of the open prices vs the volume of the stock on a scatter plot\n",
    "\n",
    "First we need to import the required libraries:"
   ]
  },
  {
   "cell_type": "code",
   "execution_count": null,
   "metadata": {},
   "outputs": [],
   "source": [
    "# Install required libraries using pip\n",
    "!pip install nbformat plotly\n",
    "\n",
    "# Import required libraries\n",
    "import pandas as pd\n",
    "import plotly.express as px\n",
    "import plotly.graph_objects as go"
   ]
  },
  {
   "cell_type": "code",
   "execution_count": null,
   "metadata": {},
   "outputs": [],
   "source": [
    "# Load the data\n",
    "df_stock = pd.read_csv('datasets/amzn.csv')\n",
    "df_stock.info(verbose=True)"
   ]
  },
  {
   "cell_type": "code",
   "execution_count": null,
   "metadata": {},
   "outputs": [],
   "source": [
    "# First we will create an empty figure using go.Figure()\n",
    "fig=go.Figure()\n",
    "fig"
   ]
  },
  {
   "cell_type": "code",
   "execution_count": null,
   "metadata": {},
   "outputs": [],
   "source": [
    "#Next we will create a scatter plot by using the add_trace function and use the go.scatter() function within it\n",
    "# In go.Scatter we define the x-axis data,y-axis data and define the mode as markers with color of the marker as blue\n",
    "fig.add_trace(go.Scatter(x=df_stock['Open'], y=df_stock['Volume'], mode='markers', marker={'color': 'blue'}))\n",
    "\n",
    "# Display the figure\n",
    "fig.show()"
   ]
  },
  {
   "cell_type": "markdown",
   "metadata": {},
   "source": [
    "**However in the previous output title, x-axis and y-axis labels are missing. Let us use the `update_layout` function to update the title and labels.**\n"
   ]
  },
  {
   "cell_type": "code",
   "execution_count": null,
   "metadata": {},
   "outputs": [],
   "source": [
    "# Here we update these values under function attributes such as title,xaxis_title and yaxis_title\n",
    "fig.update_layout(title='Open Price vs Volume', xaxis_title='Open Price', yaxis_title='Volume')\n",
    "# Display the figure\n",
    "fig.show()"
   ]
  },
  {
   "cell_type": "markdown",
   "metadata": {},
   "source": [
    "### Customizing Hover Labels\n",
    "\n",
    "To enhance the interactivity of our scatter plot, we will customize the hover labels to display more descriptive information about each data point. This can help users better understand the data as they interact with the visualization.\n"
   ]
  },
  {
   "cell_type": "code",
   "execution_count": null,
   "metadata": {},
   "outputs": [],
   "source": [
    "# Customize hover labels using the hover template\n",
    "fig.update_traces(\n",
    "    hovertemplate=\n",
    "        \"Open Price: %{x}<br>\" +\n",
    "        \"Volume: %{y}<br>\" +\n",
    "        \"<extra></extra>\"  # Removes trace name from the hover labels\n",
    ")\n",
    "\n",
    "# Display the updated figure with customized hover labels\n",
    "fig.show()\n"
   ]
  },
  {
   "cell_type": "markdown",
   "metadata": {},
   "source": [
    "## Comparison with `plotly.express`\n",
    "\n",
    "To illustrate the simplicity of `plotly.express`, the same visualization can be achieved with fewer lines of code.\n",
    "\n",
    "In plotly express we set the axis values and the title within the same function call `px.<plot_type>(x=<x-axis value source>,y=<y-axis value source>,title=<title as a string>)`.\n"
   ]
  },
  {
   "cell_type": "code",
   "execution_count": null,
   "metadata": {},
   "outputs": [],
   "source": [
    "# Create the same plot using plotly.express\n",
    "\n",
    "fig_px = px.scatter(\n",
    "    df_stock, \n",
    "    x='Open', \n",
    "    y='Volume', \n",
    "    title='Open Price vs Volume of Stock',\n",
    "    labels={'Open': 'Open Price', 'Volume': 'Volume'}\n",
    ")\n",
    "\n",
    "# Display the figure created with Plotly Express\n",
    "fig_px.show()\n"
   ]
  },
  {
   "cell_type": "markdown",
   "metadata": {},
   "source": [
    "## Exercise 1: Line Chart of Daily Stock Prices\n",
    "\n",
    "A line plot is effective for visualizing data that changes over time by connecting data points with straight lines.\n",
    "\n",
    "**Objective:**\n",
    "Use the stock dataset to create a line plot to visualize how the daily close prices of the stock have changed since 2015.\n",
    "\n",
    "**Requirements:**\n",
    "- Include only data from the year 2015 onwards.\n",
    "- **Title**: \"Daily Close Prices since 2015\"\n",
    "- **x-axis label**: \"Date\"\n",
    "- **y-axis label**: \"Close Price\"\n",
    "\n",
    "**Hint**: Utilize the `plotly.express.line` method for this plot. Filter the DataFrame to only include data from 2015 onwards with a condition on the 'Date' column. By default, Plotly uses DataFrame column names as labels for the axes. To use different labels, specify them using the `labels` parameter in `plotly.express.line`.\n",
    "\n",
    "**Resources**:\n",
    "- Check the [Plotly Express Line API reference](https://plotly.com/python-api-reference/generated/plotly.express.line.html) for syntax and options.\n",
    "- For additional examples and customizations, visit [Plotly Line Charts Examples](https://plotly.com/python/line-charts/).\n"
   ]
  },
  {
   "cell_type": "code",
   "execution_count": null,
   "metadata": {},
   "outputs": [],
   "source": [
    "# Type your answer here\n",
    "\n",
    "\n",
    "\n",
    "### Exercise 1 Solution\n",
    "\n",
    "import plotly.express as px\n",
    "import pandas as pd\n",
    "\n",
    "# Although not necessary, we can convert 'Date' to datetime\n",
    "df_stock['Date'] = pd.to_datetime(df_stock['Date'])\n",
    "\n",
    "df_filtered = df_stock[df_stock['Date'].dt.year >= 2015]\n",
    "\n",
    "# Create the line plot\n",
    "fig = px.line(\n",
    "    df_filtered,\n",
    "    x='Date',\n",
    "    y='Close',\n",
    "    title='Daily Close Prices since 2015',\n",
    "    labels={'Close': 'Close Price'}  # Custom labels for the y-axis\n",
    ")\n",
    "\n",
    "# Display the figure\n",
    "fig.show()\n",
    "\n",
    "\n"
   ]
  },
  {
   "cell_type": "markdown",
   "metadata": {},
   "source": [
    "## Exercise 2: Bar Chart of Tourist Arrivals Across Countries\n",
    "\n",
    "Bar charts are commonly used for visualizing comparisons across categories. They use rectangular bars, where the length of each bar is proportional to the represented value. \n",
    "\n",
    "**Objective:**\n",
    "Use the international tourism dataset to examine the number of tourists visiting Greece, Spain, France, and Italy in 2020 on a bar chart.\n",
    "\n",
    "**Requirements:**\n",
    "- Focus on data from the year 2020 for countries: Greece, Spain, France, and Italy.\n",
    "- Display the bars sorted in descending order of tourist numbers.\n",
    "- **Title**: \"Tourist Arrivals in 2020\"\n",
    "- **x-axis label**: \"Country\"\n",
    "- **y-axis label**: \"Number of Tourists\"\n",
    "\n",
    "**Hint**: First, access the data for 2020 by directly referencing the '2020' column in your DataFrame. Filter the DataFrame to include only Greece, Spain, France, and Italy. To display the bars in descending order based on the number of tourists, sort the DataFrame by the '2020' column in descending order before plotting.\n",
    "\n",
    "**Resources**:\n",
    "- [Plotly Express Bar Chart API Reference](https://plotly.com/python-api-reference/generated/plotly.express.bar.html)\n",
    "- [Examples of Plotly Bar Charts](https://plotly.com/python/bar-charts/)\n"
   ]
  },
  {
   "cell_type": "code",
   "execution_count": null,
   "metadata": {
    "scrolled": true
   },
   "outputs": [],
   "source": [
    "# First, let's import necessary libraries\n",
    "import pandas as pd\n",
    "import plotly.express as px\n",
    "\n",
    "# Read the .csv file and store it as a pandas DataFrame\n",
    "df_tourism = pd.read_csv(\"datasets/international_tourism.csv\")\n",
    "\n",
    "# Display the data to understand its structure\n",
    "df_tourism.head()"
   ]
  },
  {
   "cell_type": "code",
   "execution_count": null,
   "metadata": {},
   "outputs": [],
   "source": [
    "# Type your answer here\n",
    "\n",
    "\n",
    "\n",
    "# Filter the data to include only the specified countries\n",
    "df_tourism_filtered = df_tourism[df_tourism['Country Name'].isin(['Greece', 'Spain', 'France', 'Italy'])]\n",
    "\n",
    "# Sorting the data in descending order by the number of tourists in 2020\n",
    "df_tourism_filtered = df_tourism_filtered.sort_values('2020', ascending=False)\n",
    "\n",
    "# Create the bar chart using Plotly Express\n",
    "fig = px.bar(\n",
    "    df_tourism_filtered,\n",
    "    x='Country Name',\n",
    "    y='2020',  # Directly use the '2020' column for tourist numbers\n",
    "    title='Tourist Arrivals in 2020',\n",
    "    labels={'Country Name': 'Country', '2020': 'Number of Tourists'},\n",
    "    text='2020'  # Display the tourist number on each bar\n",
    ")\n",
    "\n",
    "# Adjust bar width appearance\n",
    "fig.update_traces(width=0.3)\n",
    "\n",
    "# Display the figure\n",
    "fig.show()\n",
    "\n",
    "\n",
    "\n",
    "\n",
    "\n"
   ]
  }
 ],
 "metadata": {
  "kernelspec": {
   "display_name": "Python 3 (ipykernel)",
   "language": "python",
   "name": "python3"
  },
  "language_info": {
   "codemirror_mode": {
    "name": "ipython",
    "version": 3
   },
   "file_extension": ".py",
   "mimetype": "text/x-python",
   "name": "python",
   "nbconvert_exporter": "python",
   "pygments_lexer": "ipython3",
   "version": "3.10.9"
  }
 },
 "nbformat": 4,
 "nbformat_minor": 4
}
